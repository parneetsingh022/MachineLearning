{
 "cells": [
  {
   "cell_type": "code",
   "execution_count": 1,
   "id": "af2f851c",
   "metadata": {},
   "outputs": [],
   "source": [
    "import pandas as pd\n",
    "import numpy as np\n",
    "import matplotlib.pyplot as plt\n",
    "from sklearn import linear_model"
   ]
  },
  {
   "cell_type": "markdown",
   "id": "23dd2535",
   "metadata": {},
   "source": [
    "# Collect our data"
   ]
  },
  {
   "cell_type": "code",
   "execution_count": 2,
   "id": "df7fa297",
   "metadata": {},
   "outputs": [],
   "source": [
    "df = pd.read_csv(\"data/home_data.csv\",usecols=[\"price\", 'sqft_living'])\n",
    "df = df[:20]"
   ]
  },
  {
   "cell_type": "code",
   "execution_count": 10,
   "id": "f22b4214",
   "metadata": {},
   "outputs": [
    {
     "data": {
      "text/plain": [
       "<matplotlib.collections.PathCollection at 0x26b3aa8e9a0>"
      ]
     },
     "execution_count": 10,
     "metadata": {},
     "output_type": "execute_result"
    },
    {
     "data": {
      "image/png": "[encoded data removed]",
      "text/plain": [
       "<Figure size 432x288 with 1 Axes>"
      ]
     },
     "metadata": {
      "needs_background": "light"
     },
     "output_type": "display_data"
    }
   ],
   "source": [
    "%matplotlib inline\n",
    "\n",
    "\n",
    "plt.ylabel(\"Price ($)\")\n",
    "plt.xlabel(\"Area (Sq Feet)\")\n",
    "plt.scatter(df.sqft_living,df.price, color='red', marker='+')"
   ]
  },
  {
   "cell_type": "code",
   "execution_count": 4,
   "id": "612fbc76",
   "metadata": {
    "scrolled": true
   },
   "outputs": [
    {
     "data": {
      "text/plain": [
       "570604.81"
      ]
     },
     "execution_count": 4,
     "metadata": {},
     "output_type": "execute_result"
    }
   ],
   "source": [
    "model = linear_model.LinearRegression()\n",
    "model.fit(df[['sqft_living']],df.price)\n",
    "\n",
    "value = round(model.predict([[2570]])[0],2)\n",
    "value"
   ]
  },
  {
   "cell_type": "code",
   "execution_count": 5,
   "id": "cca1ec7f",
   "metadata": {},
   "outputs": [
    {
     "data": {
      "text/plain": [
       "(206.14566992757767, 40810.442680989625)"
      ]
     },
     "execution_count": 5,
     "metadata": {},
     "output_type": "execute_result"
    }
   ],
   "source": [
    "m = model.coef_[0]\n",
    "b = model.intercept_\n",
    "m,b"
   ]
  },
  {
   "cell_type": "code",
   "execution_count": 11,
   "id": "160bed8d",
   "metadata": {},
   "outputs": [
    {
     "data": {
      "text/plain": [
       "[<matplotlib.lines.Line2D at 0x26b3aad4670>]"
      ]
     },
     "execution_count": 11,
     "metadata": {},
     "output_type": "execute_result"
    },
    {
     "data": {
      "image/png": "[encoded data removed]",
      "text/plain": [
       "<Figure size 432x288 with 1 Axes>"
      ]
     },
     "metadata": {
      "needs_background": "light"
     },
     "output_type": "display_data"
    }
   ],
   "source": [
    "%matplotlib inline\n",
    "\n",
    "\n",
    "plt.ylabel(\"Price ($)\")\n",
    "plt.xlabel(\"Area (Sq Feet)\")\n",
    "plt.scatter(df.sqft_living,df.price, color='red', marker='+')\n",
    "plt.plot(df.sqft_living,model.predict(df[['sqft_living']]),)"
   ]
  }
 ],
 "metadata": {
  "kernelspec": {
   "display_name": "Python 3",
   "language": "python",
   "name": "python3"
  },
  "language_info": {
   "codemirror_mode": {
    "name": "ipython",
    "version": 3
   },
   "file_extension": ".py",
   "mimetype": "text/x-python",
   "name": "python",
   "nbconvert_exporter": "python",
   "pygments_lexer": "ipython3",
   "version": "3.8.8"
  }
 },
 "nbformat": 4,
 "nbformat_minor": 5
}
